{
 "cells": [
  {
   "cell_type": "markdown",
   "metadata": {
    "deletable": true,
    "editable": true
   },
   "source": [
    "# Clustering the 'canon' data set\n",
    "\n",
    "The 'canon' data set is actually all the images of size 3072x2304 in the Dresden image database.\n",
    "The number of images in this dataset is 2123.\n",
    "\n",
    "We have already extracted the noise patterns and computed the similarity scores between all the images. We have also computed the coordinates with LargeVis. So now we are looking for a way to cluster the images and evaluate. "
   ]
  },
  {
   "cell_type": "code",
   "execution_count": 1,
   "metadata": {
    "collapsed": true,
    "deletable": true,
    "editable": true
   },
   "outputs": [],
   "source": [
    "%matplotlib inline\n",
    "\n",
    "import numpy\n",
    "import matplotlib.pyplot as pyplot"
   ]
  },
  {
   "cell_type": "code",
   "execution_count": 2,
   "metadata": {
    "collapsed": true,
    "deletable": true,
    "editable": true
   },
   "outputs": [],
   "source": [
    "filelist_file = \"../data/canon/filelist.txt\"\n",
    "#matrix_file = \"../data/canon/matrix-canon-pce.dat\"\n",
    "largevis_file = \"../data/embedded/coordinates_files/coordinates2D_canon_pce.txt\"\n",
    "output_json_file = \"canon-pce.json\""
   ]
  },
  {
   "cell_type": "markdown",
   "metadata": {
    "deletable": true,
    "editable": true
   },
   "source": [
    "Now let's start by loading the data set, which consists of a simple text file with all the filenames, that also encode the ground truth."
   ]
  },
  {
   "cell_type": "code",
   "execution_count": 3,
   "metadata": {
    "collapsed": false,
    "deletable": true,
    "editable": true
   },
   "outputs": [],
   "source": [
    "filelist = [str(s) for s in numpy.loadtxt(filelist_file, dtype=numpy.string_)]\n",
    "nfiles = len(filelist)\n"
   ]
  },
  {
   "cell_type": "markdown",
   "metadata": {
    "deletable": true,
    "editable": true
   },
   "source": [
    "Now we are going to obtain the ground truth, which is encoded in the filenames. "
   ]
  },
  {
   "cell_type": "code",
   "execution_count": 4,
   "metadata": {
    "collapsed": false,
    "deletable": true,
    "editable": true
   },
   "outputs": [
    {
     "data": {
      "text/plain": [
       "<matplotlib.image.AxesImage at 0x201d68bd048>"
      ]
     },
     "execution_count": 4,
     "metadata": {},
     "output_type": "execute_result"
    },
    {
     "data": {
      "image/png": "[encoded data removed]",
      "text/plain": [
       "<matplotlib.figure.Figure at 0x201d3bfdb38>"
      ]
     },
     "metadata": {},
     "output_type": "display_data"
    }
   ],
   "source": [
    "camlist = [\"_\".join(f.split(\"_\")[:-1]) for f in filelist]\n",
    "\n",
    "import itertools\n",
    "ground_truth = list(itertools.product(camlist,camlist))\n",
    "ground_truth = numpy.array([0 if l[0]==l[1] else 1000 for l in ground_truth]).reshape(nfiles,nfiles)\n",
    "\n",
    "pyplot.imshow(ground_truth, vmin=0, vmax=80)"
   ]
  },
  {
   "cell_type": "markdown",
   "metadata": {
    "deletable": true,
    "editable": true
   },
   "source": [
    "## Clustering on embedded data"
   ]
  },
  {
   "cell_type": "code",
   "execution_count": null,
   "metadata": {
    "collapsed": false,
    "deletable": true,
    "editable": true
   },
   "outputs": [],
   "source": [
    "#read output from LargeVis for this data set\n",
    "from clustit.output import OutputCollection\n",
    "oc = OutputCollection(largevis_file=largevis_file)"
   ]
  },
  {
   "cell_type": "code",
   "execution_count": 6,
   "metadata": {
    "collapsed": false,
    "deletable": true,
    "editable": true
   },
   "outputs": [
    {
     "name": "stdout",
     "output_type": "stream",
     "text": [
      "[0 0 0 ..., 3 3 3]\n"
     ]
    }
   ],
   "source": [
    "from clustit.algorithms import kmeans\n",
    "labels_embedded_kmeans = kmeans(embedded_space=oc, n_clusters=10)\n",
    "print(labels_embedded_kmeans)"
   ]
  },
  {
   "cell_type": "markdown",
   "metadata": {
    "deletable": true,
    "editable": true
   },
   "source": [
    "## Evaluate the clustering using a set of metrics"
   ]
  },
  {
   "cell_type": "code",
   "execution_count": 12,
   "metadata": {
    "collapsed": false,
    "deletable": true,
    "editable": true,
    "scrolled": true
   },
   "outputs": [
    {
     "data": {
      "image/png": "[encoded data removed]",
      "text/plain": [
       "<matplotlib.figure.Figure at 0x1ff3c50b240>"
      ]
     },
     "metadata": {},
     "output_type": "display_data"
    }
   ],
   "source": [
    "from clustit import metrics\n",
    "#algorithms = ['complete', 'average', 'centroid', 'dbscan', 'hdbscan', 'spectral', 'affinity']\n",
    "algorithms = ['kmeans']\n",
    "#labels = [labels_complete, labels_average, labels_centroid, labels_dbscan, labels_hdbscan, labels_spectral, labels_affinity]\n",
    "labels = [labels_embedded_kmeans]\n",
    "metric = ['rand_score', 'mutual_info', 'homogeneity', 'completeness', 'recall', 'precision']\n",
    "\n",
    "def compute_metrics(algorithms, labels, metric):\n",
    "    results = {i:[] for i in metric}\n",
    "    for k,v in zip(algorithms, labels):\n",
    "        results['rand_score'].append(metrics.adjusted_rand_score(ground_truth_labels, v))\n",
    "        results['mutual_info'].append(metrics.adjusted_mutual_info_score(ground_truth_labels, v))\n",
    "        results['homogeneity'].append(metrics.homogeneity_score(ground_truth_labels, v))\n",
    "        results['completeness'].append(metrics.completeness_score(ground_truth_labels, v))\n",
    "        results['recall'].append(metrics.recall(ground_truth_labels, v,))\n",
    "        results['precision'].append(metrics.precision(ground_truth_labels, v))\n",
    "    return results\n",
    "\n",
    "results = compute_metrics(algorithms, labels, metric)\n",
    "    \n",
    "def plot_results(algorithms, metric, results):\n",
    "    \"\"\"\n",
    "    Function that creates a bar char for a list of algorithms\n",
    "    that have been benchmarked using a list of metrics. \n",
    "    Results is a dictionary with metrics as keys, values are lists\n",
    "    that contain one value per algorithm.\n",
    "    \"\"\"\n",
    "    width = 1.0/(len(algorithms)+2)                             #width that leaves bar of whitespace between groups\n",
    "    x_ind = numpy.arange(len(algorithms)) + 0.5*width           #0.5 width is to make bargroup centered on its tick\n",
    "    bars = []\n",
    "    for i in range(len(metric)):\n",
    "        color = 1.0/len(metric)*i                                #map i into [0,1] to get distinct colors\n",
    "        bars.append(pyplot.bar(x_ind+i*width, results[metric[i]], width=width, color=pyplot.cm.gist_rainbow(color)))\n",
    "    ax = pyplot.gcf().gca()\n",
    "    ax.set_xticks(x_ind + (len(x_ind)/float(2)+0.5)*width)      #nicely center the xticks among the bars\n",
    "    ax.set_xticklabels(algorithms)\n",
    "    ax.legend(bars, metric, loc='upper left', bbox_to_anchor=(1, 1))\n",
    "    \n",
    "plot_results(algorithms, metric, results)\n"
   ]
  },
  {
   "cell_type": "code",
   "execution_count": 13,
   "metadata": {
    "collapsed": false
   },
   "outputs": [
    {
     "name": "stdout",
     "output_type": "stream",
     "text": [
      "{'recall': [0.9878708501793747], 'completeness': [0.98698248269031807], 'mutual_info': [0.98687222120016038], 'rand_score': [0.9878786748964234], 'homogeneity': [0.98747539408502227], 'precision': [0.990343531395599]}\n"
     ]
    }
   ],
   "source": [
    "print(results)"
   ]
  },
  {
   "cell_type": "markdown",
   "metadata": {
    "collapsed": true,
    "deletable": true,
    "editable": true
   },
   "source": [
    "## Produce output for DiVE"
   ]
  },
  {
   "cell_type": "code",
   "execution_count": 16,
   "metadata": {
    "collapsed": false,
    "deletable": true,
    "editable": true
   },
   "outputs": [],
   "source": [
    "#add the ground truth as a property to the output for comparison\n",
    "oc.add_property(\"ground truth\", ground_truth_labels)\n",
    "\n",
    "#add the labelings from the clustering algorithms as properties to the output collection\n",
    "for n,l in zip(algorithms + embed_algorithms, labels + embed_labels):\n",
    "    oc.add_property(n, l)\n",
    "\n",
    "#generate a JSON file that can directly be imported by DiVE\n",
    "json_str = oc.to_DiVE(filename=output_json_file)"
   ]
  },
  {
   "cell_type": "code",
   "execution_count": null,
   "metadata": {
    "collapsed": true
   },
   "outputs": [],
   "source": []
  }
 ],
 "metadata": {
  "anaconda-cloud": {},
  "celltoolbar": "Raw Cell Format",
  "kernelspec": {
   "display_name": "Python [default]",
   "language": "python",
   "name": "python3"
  },
  "language_info": {
   "codemirror_mode": {
    "name": "ipython",
    "version": 3
   },
   "file_extension": ".py",
   "mimetype": "text/x-python",
   "name": "python",
   "nbconvert_exporter": "python",
   "pygments_lexer": "ipython3",
   "version": "3.5.2"
  }
 },
 "nbformat": 4,
 "nbformat_minor": 1
}
