{
 "cells": [
  {
   "cell_type": "markdown",
   "metadata": {
    "deletable": true,
    "editable": true
   },
   "source": [
    "# Clustering the 'fuji' data set\n",
    "\n",
    "The 'fuji' data set is actually all the images of size 3264x2448 in the Dresden image database.\n",
    "The number of images in this dataset is 1918.\n",
    "\n",
    "We have already extracted the noise patterns and computed the similarity scores between all the images. We have also computed the coordinates with LargeVis. So now we are looking for a way to cluster the images and evaluate. "
   ]
  },
  {
   "cell_type": "code",
   "execution_count": 60,
   "metadata": {
    "collapsed": true,
    "deletable": true,
    "editable": true
   },
   "outputs": [],
   "source": [
    "%matplotlib inline\n",
    "\n",
    "import numpy\n",
    "numpy.set_printoptions(threshold=numpy.inf)\n",
    "import matplotlib.pyplot as pyplot"
   ]
  },
  {
   "cell_type": "code",
   "execution_count": 62,
   "metadata": {
    "collapsed": true,
    "deletable": true,
    "editable": true
   },
   "outputs": [],
   "source": [
    "#all files associated with this notebook. The matrix_file can be ignored due to its size and it serves for making the plot only\n",
    "filelist_file = \"../data/fuji/filelist.txt\"\n",
    "largevis_file = \"../data/embedded/coordinates_files/coordinates2D_fuji_pce.txt\"\n",
    "output_json_file = \"../data/combined/fuji-pce.json\""
   ]
  },
  {
   "cell_type": "markdown",
   "metadata": {
    "deletable": true,
    "editable": true
   },
   "source": [
    "Now let's start by loading the data set, which is consists of two files. A simple text file with all the filenames, that also encode the ground truth. And secondly and a file that contains the already computed similarity scores between all the files."
   ]
  },
  {
   "cell_type": "code",
   "execution_count": 63,
   "metadata": {
    "collapsed": false,
    "deletable": true,
    "editable": true
   },
   "outputs": [],
   "source": [
    "filelist = [str(s) for s in numpy.loadtxt(filelist_file, dtype=numpy.string_)]\n",
    "nfiles = len(filelist)"
   ]
  },
  {
   "cell_type": "markdown",
   "metadata": {
    "deletable": true,
    "editable": true
   },
   "source": [
    "Now we are going to obtain the ground truth, which is encoded in the filenames. "
   ]
  },
  {
   "cell_type": "code",
   "execution_count": 65,
   "metadata": {
    "collapsed": false,
    "deletable": true,
    "editable": true
   },
   "outputs": [
    {
     "data": {
      "text/plain": [
       "<matplotlib.image.AxesImage at 0x1c78ffff9b0>"
      ]
     },
     "execution_count": 65,
     "metadata": {},
     "output_type": "execute_result"
    },
    {
     "data": {
      "image/png": "[encoded data removed]",
      "text/plain": [
       "<matplotlib.figure.Figure at 0x1c783397518>"
      ]
     },
     "metadata": {},
     "output_type": "display_data"
    }
   ],
   "source": [
    "camlist = [\"_\".join(f.split(\"_\")[:-1]) for f in filelist]\n",
    "\n",
    "import itertools\n",
    "ground_truth = list(itertools.product(camlist,camlist))\n",
    "ground_truth = numpy.array([0 if l[0]==l[1] else 1000 for l in ground_truth]).reshape(nfiles,nfiles)\n",
    "\n",
    "pyplot.imshow(ground_truth, vmin=0, vmax=80)"
   ]
  },
  {
   "cell_type": "markdown",
   "metadata": {
    "deletable": true,
    "editable": true
   },
   "source": [
    "Next we want to obtain a list of cluster labels for our ground truth."
   ]
  },
  {
   "cell_type": "code",
   "execution_count": 66,
   "metadata": {
    "collapsed": false,
    "deletable": true,
    "editable": true
   },
   "outputs": [
    {
     "name": "stdout",
     "output_type": "stream",
     "text": [
      "[6 6 6 6 6 6 6 6 6 6 6 6 6 6 6 6 6 6 6 6 6 6 6 6 6 6 6 6 6 6 6 6 6 6 6 6 6\n",
      " 6 6 6 6 6 6 6 6 6 6 6 6 6 6 6 6 6 6 6 6 6 6 6 6 6 6 6 6 6 6 6 6 6 6 6 6 6\n",
      " 6 6 6 6 6 6 6 6 6 6 6 6 6 6 6 6 6 6 6 6 6 6 6 6 6 6 6 6 6 6 6 6 6 6 6 6 6\n",
      " 6 6 6 6 6 6 6 6 6 6 6 6 6 6 6 6 6 6 6 6 6 6 6 6 6 6 6 6 6 6 6 6 6 6 6 6 6\n",
      " 6 6 6 6 6 6 6 6 6 6 6 6 6 6 6 6 6 6 6 6 6 6 6 6 6 6 6 6 6 6 6 6 6 6 6 6 6\n",
      " 6 6 6 6 6 6 6 6 6 6 6 6 6 6 6 6 6 6 6 6 6 6 6 6 6 6 6 6 6 6 6 6 6 6 6 6 6\n",
      " 6 6 6 6 6 6 6 6 6 6 6 6 6 6 6 6 6 6 6 6 6 6 6 6 6 6 6 6 6 6 6 6 6 6 6 6 6\n",
      " 6 6 6 6 6 6 6 6 6 6 6 6 6 6 6 6 6 6 6 6 6 6 6 6 6 6 6 6 6 6 6 6 6 6 6 6 6\n",
      " 6 6 6 6 6 6 6 6 6 6 6 6 6 6 6 6 6 6 6 6 6 6 6 6 6 6 6 6 6 6 6 6 6 6 6 6 6\n",
      " 6 6 6 6 6 6 6 6 6 6 6 6 6 6 6 6 6 6 6 6 6 6 6 6 6 6 6 6 6 6 3 3 3 3 3 3 3\n",
      " 3 3 3 3 3 3 3 3 3 3 3 3 3 3 3 3 3 3 3 3 3 3 3 3 3 3 3 3 3 3 3 3 3 3 3 3 3\n",
      " 3 3 3 3 3 3 3 3 3 3 3 3 3 3 3 3 3 3 3 3 3 3 3 3 3 3 3 3 3 3 3 3 3 3 3 3 3\n",
      " 3 3 3 3 3 3 3 3 3 3 3 3 3 3 3 3 3 3 3 3 3 3 3 3 3 3 3 3 3 3 3 3 3 3 3 3 3\n",
      " 3 3 3 3 3 3 3 3 3 3 3 3 3 3 3 3 3 3 3 3 3 3 3 3 3 3 3 3 3 3 3 3 3 3 3 3 3\n",
      " 3 3 3 3 3 3 3 3 3 3 3 3 3 3 3 3 3 3 3 3 3 3 3 3 3 3 4 4 4 4 4 4 4 4 4 4 4\n",
      " 4 4 4 4 4 4 4 4 4 4 4 4 4 4 4 4 4 4 4 4 4 4 4 4 4 4 4 4 4 4 4 4 4 4 4 4 4\n",
      " 4 4 4 4 4 4 4 4 4 4 4 4 4 4 4 4 4 4 4 4 4 4 4 4 4 4 4 4 4 4 4 4 4 4 4 4 4\n",
      " 4 4 4 4 4 4 4 4 4 4 4 4 4 4 4 4 4 4 4 4 4 4 4 4 4 4 4 4 4 4 4 4 4 4 4 4 4\n",
      " 4 4 4 4 4 4 4 4 4 4 4 4 4 4 4 4 4 4 4 4 4 4 4 4 4 4 4 4 4 4 4 4 4 4 4 4 4\n",
      " 4 4 4 4 4 4 4 4 4 4 4 4 4 4 4 4 4 4 4 4 4 4 4 4 4 4 4 4 4 4 0 0 0 0 0 0 0\n",
      " 0 0 0 0 0 0 0 0 0 0 0 0 0 0 0 0 0 0 0 0 0 0 0 0 0 0 0 0 0 0 0 0 0 0 0 0 0\n",
      " 0 0 0 0 0 0 0 0 0 0 0 0 0 0 0 0 0 0 0 0 0 0 0 0 0 0 0 0 0 0 0 0 0 0 0 0 0\n",
      " 0 0 0 0 0 0 0 0 0 0 0 0 0 0 0 0 0 0 0 0 0 0 0 0 0 0 0 0 0 0 0 0 0 0 0 0 0\n",
      " 0 0 0 0 0 0 0 0 0 0 0 0 0 0 0 0 0 0 0 0 0 0 0 0 0 0 0 0 0 0 0 0 0 0 0 0 0\n",
      " 0 0 0 0 0 0 0 0 0 0 0 0 0 0 0 0 0 0 0 0 0 0 0 0 0 0 0 0 0 0 0 0 5 5 5 5 5\n",
      " 5 5 5 5 5 5 5 5 5 5 5 5 5 5 5 5 5 5 5 5 5 5 5 5 5 5 5 5 5 5 5 5 5 5 5 5 5\n",
      " 5 5 5 5 5 5 5 5 5 5 5 5 5 5 5 5 5 5 5 5 5 5 5 5 5 5 5 5 5 5 5 5 5 5 5 5 5\n",
      " 5 5 5 5 5 5 5 5 5 5 5 5 5 5 5 5 5 5 5 5 5 5 5 5 5 5 5 5 5 5 5 5 5 5 5 5 5\n",
      " 5 5 5 5 5 5 5 5 5 5 5 5 5 5 5 5 5 5 5 5 5 5 5 5 5 5 5 5 5 5 5 5 5 5 5 5 5\n",
      " 5 5 5 5 5 5 5 5 5 5 5 5 5 5 5 5 5 5 5 5 5 5 5 5 5 5 5 5 5 5 5 5 5 5 7 7 7\n",
      " 7 7 7 7 7 7 7 7 7 7 7 7 7 7 7 7 7 7 7 7 7 7 7 7 7 7 7 7 7 7 7 7 7 7 7 7 7\n",
      " 7 7 7 7 7 7 7 7 7 7 7 7 7 7 7 7 7 7 7 7 7 7 7 7 7 7 7 7 7 7 7 7 7 7 7 7 7\n",
      " 7 7 7 7 7 7 7 7 7 7 7 7 7 7 7 7 7 7 7 7 7 7 7 7 7 7 7 7 7 7 7 7 7 7 7 7 7\n",
      " 7 7 7 7 7 7 7 7 7 7 7 7 7 7 7 7 7 7 7 7 7 7 7 7 7 7 7 7 7 7 7 7 7 7 7 7 7\n",
      " 7 7 7 7 7 7 7 7 7 7 7 7 7 7 7 7 7 7 7 7 7 7 7 7 7 7 7 7 7 7 8 8 8 8 8 8 8\n",
      " 8 8 8 8 8 8 8 8 8 8 8 8 8 8 8 8 8 8 8 8 8 8 8 8 8 8 8 8 8 8 8 8 8 8 8 8 8\n",
      " 8 8 8 8 8 8 8 8 8 8 8 8 8 8 8 8 8 8 8 8 8 8 8 8 8 8 8 8 8 8 8 8 8 8 8 8 8\n",
      " 8 8 8 8 8 8 8 8 8 8 8 8 8 8 8 8 8 8 8 8 8 8 8 8 8 8 8 8 8 8 8 8 8 8 8 8 8\n",
      " 8 8 8 8 8 8 8 8 8 8 8 8 8 8 8 8 8 8 8 8 8 8 8 8 8 8 8 8 8 8 8 8 8 8 8 8 8\n",
      " 8 8 8 8 8 8 8 8 8 8 8 8 8 8 8 8 8 8 8 8 8 8 8 8 8 8 8 8 8 8 8 8 8 8 8 8 8\n",
      " 8 8 8 8 8 8 8 8 8 8 8 8 8 8 8 8 8 8 1 1 1 1 1 1 1 1 1 1 1 1 1 1 1 1 1 1 1\n",
      " 1 1 1 1 1 1 1 1 1 1 1 1 1 1 1 1 1 1 1 1 1 1 1 1 1 1 1 1 1 1 1 1 1 1 1 1 1\n",
      " 1 1 1 1 1 1 1 1 1 1 1 1 1 1 1 1 1 1 1 1 1 1 1 1 1 1 1 1 1 1 1 1 1 1 1 1 1\n",
      " 1 1 1 1 1 1 1 1 1 1 1 1 1 1 1 1 1 1 1 1 1 1 1 1 1 1 1 1 1 1 1 1 1 1 1 1 1\n",
      " 1 1 1 1 1 1 1 1 1 1 1 1 1 1 1 1 1 1 1 1 1 1 1 1 1 1 1 1 1 1 1 1 1 1 1 1 1\n",
      " 1 1 1 1 1 1 1 1 1 1 1 1 1 1 1 1 1 1 1 1 1 1 1 1 1 1 1 1 1 1 1 1 1 1 1 1 1\n",
      " 1 2 2 2 2 2 2 2 2 2 2 2 2 2 2 2 2 2 2 2 2 2 2 2 2 2 2 2 2 2 2 2 2 2 2 2 2\n",
      " 2 2 2 2 2 2 2 2 2 2 2 2 2 2 2 2 2 2 2 2 2 2 2 2 2 2 2 2 2 2 2 2 2 2 2 2 2\n",
      " 2 2 2 2 2 2 2 2 2 2 2 2 2 2 2 2 2 2 2 2 2 2 2 2 2 2 2 2 2 2 2 2 2 2 2 2 2\n",
      " 2 2 2 2 2 2 2 2 2 2 2 2 2 2 2 2 2 2 2 2 2 2 2 2 2 2 2 2 2 2 2 2 2 2 2 2 2\n",
      " 2 2 2 2 2 2 2 2 2 2 2 2 2 2 2 2 2 2 2 2 2 2 2 2 2 2 2 2 2 2 2 2 2 2 2 2 2\n",
      " 2 2 2 2 2 2 2 2 2 2 2 2 2 2 2 2 2 2 2 2 2 2 2 2 2 2 2 2 2 2 2]\n"
     ]
    }
   ],
   "source": [
    "cameras = dict.fromkeys(camlist)\n",
    "camera_index = -1\n",
    "for camera in cameras:\n",
    "    camera_index = camera_index + 1\n",
    "    cameras[camera] = camera_index\n",
    "ground_truth_labels = numpy.array([cameras[i] for i in camlist])\n",
    "print(ground_truth_labels)"
   ]
  },
  {
   "cell_type": "markdown",
   "metadata": {
    "deletable": true,
    "editable": true
   },
   "source": [
    "## Clustering on embedded data"
   ]
  },
  {
   "cell_type": "code",
   "execution_count": null,
   "metadata": {
    "collapsed": false,
    "deletable": true,
    "editable": true
   },
   "outputs": [],
   "source": [
    "#read output from LargeVis for this data set. If you get an error ' no module named LargeVis', this means you haven't installed it. \n",
    "#However, you can circumvent LargeVis if you have already computed the coordinates (if you have largevis_file)\n",
    "#Just comment or remove the line 'import LargeVis' from ./clustit/embedding.py\n",
    "from clustit.output import OutputCollection\n",
    "oc = OutputCollection(largevis_file=largevis_file)"
   ]
  },
  {
   "cell_type": "markdown",
   "metadata": {},
   "source": [
    "From the visualization of the Fuji dataset we can spot 22 clusters; however, we set the number of clusters to 27 for k-means. This is because we want all visual clusters to be also clusters from the output of k-means. If there are more clusters coming out of k-means than from the visualization, we can easily merge those clusters. "
   ]
  },
  {
   "cell_type": "code",
   "execution_count": 119,
   "metadata": {
    "collapsed": false,
    "deletable": true,
    "editable": true
   },
   "outputs": [
    {
     "name": "stdout",
     "output_type": "stream",
     "text": [
      "[13 13 13 13 13 13 13 13 13 13 13 13 13 13 13 13 13 13 13 13 13 13 13 13 13\n",
      " 13 13 13 13 13 13 13 13 13 13 13 13 13 13 13 13 13  1 13 13 13  1 13 13 13\n",
      " 13 13 13 13 13 13 13 13 13 13 13 13 13 13 13  1  1 13 13 13 13 13 13 13 13\n",
      " 13 13 13 13 13 13 13 13 13 13 22 13 13 13 13 13 13 25 25 25 25 25 13 13 13\n",
      " 13 13 13 13 13 25 25 25 25 13 13 22 13 13 13 13 13 13 13 13 13 22 13 13 13\n",
      " 22 13 13 13 13 13 13 13 13 13 13 13 13 13 13 13 13 13 13 13 13 13 13 13 13\n",
      " 13 13 22 22 13 13 13 13 13 13  1  1  1  1 13 13 13 13 22 22 13 13 13 13 13\n",
      " 13 13 13 13 13 13 22 13 13 13 25 13 13 13 22 13 13 13 22 13 13 13 13 13 13\n",
      " 13 22 13 13 13 13 13 13 13 13 25 13 25 13 22 25 13 13 13 22 13 25 13 13 22\n",
      " 25 25 13 13 13 22 25 25 25 21 21 21 25  1 25 25 25 22  1 22 25  1 25 22 21\n",
      " 13  1 21 21  1 13 21 21 22 25  1 21 25 25 25 25 25 22 22 25 25  1  1 22 25\n",
      " 25 22 22  1  1 21 21 25  1 21 21  1  1 22 25  1  1 21  1  1  1  1 21 22 25\n",
      " 22 22 22 21  1  1 21 21 21 25  1 22 22 23 25  1 22 25 25 22 22  1 21  1 25\n",
      " 21 22 23 25 25 21 22 25  1  1 21 21 25 22 25 21 23  1 25 21 25 22 25  1  1\n",
      " 22 22  1  1 21 21 22 22 22 25 25 22  1  2 10 12  2 10 12  2 10 12 10  2 12\n",
      " 10  2 12 10  2 12 10  2 12 10  2 12  2 10 12  2 10 12 10  2 12  2 10 12 10\n",
      "  2 12  2 10 12 12  2 10 10  2 12 12  2 10 10  2 12 10  2 12 10  2 12 12 10\n",
      "  2 12 10  2 12 10  2 12 10  2 12 12  2 10 10  2 12 12 23 10 10  2 12 12 12\n",
      "  2 10 12 12  2 10 10  2 12 10  2  2 12 12 12 10 10  2  2 12 12 10  2 12 10\n",
      "  2 12 10  2 12 10  2 12 10  2 12 10  2 12 10  2 12 10  2 12 10  2  2 12 12\n",
      "  2 10 10  2 12 12  2 10 12  2 10 12  2 10 12  2 10 12  2 10 12  2 10 12  2\n",
      " 10  2 12 12 12  2 10 12 12  2  2 10 10 10  2 12 12  2 10  8  4  8 15  8  4\n",
      " 15  8  4  8 15 15  4  8 15  4  8 15  4  8 15  4  8 15  4 15  8  4 15  8  4\n",
      "  8 15  4 15  8  4  8 15  4 15  8  4  4 15  8  8 15  4  4 15  8  8 15  4  8\n",
      " 15  4  8 15  4  4  8 15  4  8 15  4  8 15  4  8 15  4  4 15  8  8 15  4  4\n",
      " 15  8  8 15 15  4  4  4 15  8  4  4 15  8  8  8 15  4  4  8  8 15 15  4  4\n",
      "  4  8 15  4  4  8 15  4  8 15  4  8 15  4  8  4 15  8  8 15  4  8 15  4  8\n",
      " 15  4  8 15  4  8 15  4  8 15  4  4  4 15  8  8 15  4  4 15  8  4 15  8  4\n",
      " 15  8  4 15  8  4 15  8  4 15  8  4 15  8  8 15  4  4 23 15  8  4  4 15 15\n",
      "  8  8  8 15  4  4 15  8 19  3 17 19  3 17 19  3 17  3 19 17  3 19 17  3 19\n",
      " 17  3 19 17  3 19 17 19  3 17 19  3 17  3 19 17 19  3 17  3 19 17 19  3 17\n",
      " 17 19  3  3 19  3 19 17 17 19  3  3 19 17  3 19 17  3 19 17 17  3 19 17 19\n",
      "  3 17  3 19 17  3 19 17  3 23 17  3 19 17 17 19  3  3 19 17 17 17 19 19  3\n",
      " 17 17 19  3 19  3 17 17  3 19  3 19 19 17 17  3  3 19 17  3 19 17  3  3 19\n",
      " 17  3 19 17  3 19 17  3 19 17  3 19 17 17  3 19 17  3 19 17  3 19 17 17 19\n",
      "  3  3 19 17 17 19  3 17 19  3 17 19  3  3 17 19  3 17 19  3 17 19  3 17 19\n",
      "  3 19 17 17 17 23 19  3 17 17 19 19  3  3  3 19 17 17 19  3 14  5 11 14  5\n",
      " 11 14  5 11  5 14 11  5 14 11  5 14 11  5 14 11  5 14 11 14  5 11 14  5 11\n",
      " 11  5 14 11 14  5 11  5 14 11 14  5 11 11 14  5  5 14 11 11 14  5  5 14 11\n",
      "  5 14 11  5 14 11 11  5 14 11  5 14 11  5 14 11  5 14 11 11 14  5  5 14 11\n",
      " 11 14  5  5 14 11 11 11 11 14  5 11 11 14  5  5 14 11  5  5 14 14 11 11  5\n",
      " 14 11  5 14 11  5  5 14 11  5 14 11  5 14 14 11  5 14 11  5 14 14 11  5 14\n",
      " 11  5 14 11  5  5 14 11 11  5 14 11 11 23  5 11 14  5 11 14  5 11 14  5 11\n",
      " 14  5 11 14  5 11 14  5 11 14  5 14 11 11 11 20 11 23 14  5 11 11 14 14  5\n",
      "  5  5 14 11 11 14  5 16 18  6 16  6 18 16  6 18  6 16 18  6 16 18  6 16 18\n",
      "  6 16 18  6 16 18  6 18 16 16  6 18  6 16 18 16  6 18  6 16 18 16  6 18 18\n",
      " 16  6  6 16 18 18 16  6  6 16 18  6 16 18  6 16 18 18  6 16 18  6 16 18  6\n",
      " 16 18  6 16 18 18 16  6  6 16 18 18 16  6  6  6 16 18 18 18 16  6 18 18 16\n",
      "  6  6 16 18  6  6 16 16 18 18  6 16 18  6 16 18  6 16 18  6 16 18  6 16 16\n",
      "  6 18  6 23 18  6 16 18  6 16 18  6  6 16 18  6 16 18 18 18 16  6  6 16 18\n",
      " 18 16  6 18 16  6 18  6 16 18 16  6 18 16  6 18 16  6 18 16  6 16 18 18 16\n",
      "  6 18 18 16 16  6  6  6 16 18 18 16  6 26 26 26 26 26 26 26 26 26 26 26 26\n",
      " 26 26 26 26 26 26 26 26 26  9  9  9 26 26 26 26  9  9  9  9  9  9  9  9  9\n",
      "  9  9  9  9  9  9  9  9  9  9  9  9  9  9  9  9  9  9  9  9  9  9  9  9  9\n",
      "  9  9  9  9  9  9  9  9  9  9  9  9  9  9  9  9  9  9  9  9  9  9  9  9  9\n",
      "  9  9  9  9  9  9  9  9  9  9  9  9  9  9  9  9  9  9  9  9  9 26 26 26 26\n",
      " 26 26 26 26  9  9  9  9  9 26 26 26 26 26 26 26 26 26 26 26 26 26  9 26 26\n",
      " 26 26  9  9  9  9  9  9  9  9  9  9  9  9  9  9  9  9  9  9  9  9  9  9  9\n",
      "  9  9  9  9  9  9  9  9  9  9  9  9  9  9  9  9  9  9  9  9  9  9  9  9  9\n",
      "  9  9  9  9  9  9 26 26 26 26 26 26  9 26 26  9  9  9  9  9  9  9  9 23 23\n",
      " 23  0 23 23 23 23 26 26 26  7  7  7 23 23 23 23 23 23 23  0  0  0 23 23 23\n",
      " 23 23  0  0  0  0  0  0  0  0  0  0  0  0  0 24 24  0  0  0  0  0  0  0  0\n",
      "  0  0  0  0  0  0  0  0  0  0  0  0  0  0  0  0  0  0  0  0  0  0  0  0  0\n",
      "  0  0  0  0  0  0  0  0  0  0  0  0  0  0  0  0  0  0  0  0  0  0  0  0  0\n",
      "  0 23 23 23 23 23 23 23 23  0  0  0  0  0  0  0 23 23 23 23 23 23 23 23 23\n",
      " 23 23 23 23 23 23 23 23 23 23  0  0  0  0  0  0  0  0  0  0  0  0  0  0  0\n",
      "  0  0  0  0  0  0  0  0  0  0  0  0  0  0  0  0  0  0  0  0  0  0  0  0  0\n",
      "  0  0  0  0  0  0  0  0  0  0  0  0  0  0 23 23 23 23 23 23 23  0  0  0  0\n",
      "  0  0  0 20 20 20 20 20 20 20 20 20 20 20  7 20 20 20 20 20 20 20  7  7  7\n",
      "  7 20 20 20  7  7  7  7  7  7  7  7  7  7  7  7  7  7  7  7 14 14  7  7  7\n",
      "  7  7  7  7  7  7  7  7  7  7  7  7  7  7  7  7  7  7  7  7  7  7  7  7  7\n",
      "  7  7  7  7  7  7  7  7  7  7  7  7  7  7  7  7  7  7  7  7  7  7  7  7  7\n",
      "  7  7  7  7  7  7  7 20 20 20 20 20 20 20 20  7  7  7  7  7  7 20 20 20 20\n",
      " 20 20 20 20 20 20 20 20 20 20 20 20 20 20 20 20 20  7  7  7  7  7  7  7  7\n",
      "  7  7  7  7  7  7  7  7  7  7  7  7  7  7  7  7  7  7  7  7  7  7  7  7  7\n",
      "  7  7  7  7  7  7  7  7  7  7  7  7  7  7  7  7  7  7  7  7  7  7  7  7 20\n",
      " 20 20  7 20  7 20 20 20 20 20  7  7  7  7  7  7  7  7]\n"
     ]
    }
   ],
   "source": [
    "from clustit.algorithms import kmeans\n",
    "labels_embedded_kmeans = kmeans(embedded_space=oc, n_clusters=27)\n",
    "print(labels_embedded_kmeans)"
   ]
  },
  {
   "cell_type": "markdown",
   "metadata": {},
   "source": [
    "From the visualization we see that we need to merge several clusters"
   ]
  },
  {
   "cell_type": "code",
   "execution_count": 125,
   "metadata": {
    "collapsed": true
   },
   "outputs": [],
   "source": [
    "def mergeClusters(list_all_labels, list_merge_labels):\n",
    "    label = min(list_merge_labels)\n",
    "    for i in range(0,len(list_all_labels)):\n",
    "        if list_all_labels[i] in list_merge_labels:\n",
    "            list_all_labels[i] = label                "
   ]
  },
  {
   "cell_type": "code",
   "execution_count": 126,
   "metadata": {
    "collapsed": true
   },
   "outputs": [],
   "source": [
    "mergeClusters(labels_embedded_kmeans, [1, 22, 13, 25, 21])\n"
   ]
  },
  {
   "cell_type": "code",
   "execution_count": 127,
   "metadata": {
    "collapsed": false
   },
   "outputs": [
    {
     "name": "stdout",
     "output_type": "stream",
     "text": [
      "[ 1  1  1  1  1  1  1  1  1  1  1  1  1  1  1  1  1  1  1  1  1  1  1  1  1\n",
      "  1  1  1  1  1  1  1  1  1  1  1  1  1  1  1  1  1  1  1  1  1  1  1  1  1\n",
      "  1  1  1  1  1  1  1  1  1  1  1  1  1  1  1  1  1  1  1  1  1  1  1  1  1\n",
      "  1  1  1  1  1  1  1  1  1  1  1  1  1  1  1  1  1  1  1  1  1  1  1  1  1\n",
      "  1  1  1  1  1  1  1  1  1  1  1  1  1  1  1  1  1  1  1  1  1  1  1  1  1\n",
      "  1  1  1  1  1  1  1  1  1  1  1  1  1  1  1  1  1  1  1  1  1  1  1  1  1\n",
      "  1  1  1  1  1  1  1  1  1  1  1  1  1  1  1  1  1  1  1  1  1  1  1  1  1\n",
      "  1  1  1  1  1  1  1  1  1  1  1  1  1  1  1  1  1  1  1  1  1  1  1  1  1\n",
      "  1  1  1  1  1  1  1  1  1  1  1  1  1  1  1  1  1  1  1  1  1  1  1  1  1\n",
      "  1  1  1  1  1  1  1  1  1  1  1  1  1  1  1  1  1  1  1  1  1  1  1  1  1\n",
      "  1  1  1  1  1  1  1  1  1  1  1  1  1  1  1  1  1  1  1  1  1  1  1  1  1\n",
      "  1  1  1  1  1  1  1  1  1  1  1  1  1  1  1  1  1  1  1  1  1  1  1  1  1\n",
      "  1  1  1  1  1  1  1  1  1  1  1  1  1 23  1  1  1  1  1  1  1  1  1  1  1\n",
      "  1  1 23  1  1  1  1  1  1  1  1  1  1  1  1  1 23  1  1  1  1  1  1  1  1\n",
      "  1  1  1  1  1  1  1  1  1  1  1  1  1  2 10 12  2 10 12  2 10 12 10  2 12\n",
      " 10  2 12 10  2 12 10  2 12 10  2 12  2 10 12  2 10 12 10  2 12  2 10 12 10\n",
      "  2 12  2 10 12 12  2 10 10  2 12 12  2 10 10  2 12 10  2 12 10  2 12 12 10\n",
      "  2 12 10  2 12 10  2 12 10  2 12 12  2 10 10  2 12 12 23 10 10  2 12 12 12\n",
      "  2 10 12 12  2 10 10  2 12 10  2  2 12 12 12 10 10  2  2 12 12 10  2 12 10\n",
      "  2 12 10  2 12 10  2 12 10  2 12 10  2 12 10  2 12 10  2 12 10  2  2 12 12\n",
      "  2 10 10  2 12 12  2 10 12  2 10 12  2 10 12  2 10 12  2 10 12  2 10 12  2\n",
      " 10  2 12 12 12  2 10 12 12  2  2 10 10 10  2 12 12  2 10  8  4  8 15  8  4\n",
      " 15  8  4  8 15 15  4  8 15  4  8 15  4  8 15  4  8 15  4 15  8  4 15  8  4\n",
      "  8 15  4 15  8  4  8 15  4 15  8  4  4 15  8  8 15  4  4 15  8  8 15  4  8\n",
      " 15  4  8 15  4  4  8 15  4  8 15  4  8 15  4  8 15  4  4 15  8  8 15  4  4\n",
      " 15  8  8 15 15  4  4  4 15  8  4  4 15  8  8  8 15  4  4  8  8 15 15  4  4\n",
      "  4  8 15  4  4  8 15  4  8 15  4  8 15  4  8  4 15  8  8 15  4  8 15  4  8\n",
      " 15  4  8 15  4  8 15  4  8 15  4  4  4 15  8  8 15  4  4 15  8  4 15  8  4\n",
      " 15  8  4 15  8  4 15  8  4 15  8  4 15  8  8 15  4  4 23 15  8  4  4 15 15\n",
      "  8  8  8 15  4  4 15  8 19  3 17 19  3 17 19  3 17  3 19 17  3 19 17  3 19\n",
      " 17  3 19 17  3 19 17 19  3 17 19  3 17  3 19 17 19  3 17  3 19 17 19  3 17\n",
      " 17 19  3  3 19  3 19 17 17 19  3  3 19 17  3 19 17  3 19 17 17  3 19 17 19\n",
      "  3 17  3 19 17  3 19 17  3 23 17  3 19 17 17 19  3  3 19 17 17 17 19 19  3\n",
      " 17 17 19  3 19  3 17 17  3 19  3 19 19 17 17  3  3 19 17  3 19 17  3  3 19\n",
      " 17  3 19 17  3 19 17  3 19 17  3 19 17 17  3 19 17  3 19 17  3 19 17 17 19\n",
      "  3  3 19 17 17 19  3 17 19  3 17 19  3  3 17 19  3 17 19  3 17 19  3 17 19\n",
      "  3 19 17 17 17 23 19  3 17 17 19 19  3  3  3 19 17 17 19  3 14  5 11 14  5\n",
      " 11 14  5 11  5 14 11  5 14 11  5 14 11  5 14 11  5 14 11 14  5 11 14  5 11\n",
      " 11  5 14 11 14  5 11  5 14 11 14  5 11 11 14  5  5 14 11 11 14  5  5 14 11\n",
      "  5 14 11  5 14 11 11  5 14 11  5 14 11  5 14 11  5 14 11 11 14  5  5 14 11\n",
      " 11 14  5  5 14 11 11 11 11 14  5 11 11 14  5  5 14 11  5  5 14 14 11 11  5\n",
      " 14 11  5 14 11  5  5 14 11  5 14 11  5 14 14 11  5 14 11  5 14 14 11  5 14\n",
      " 11  5 14 11  5  5 14 11 11  5 14 11 11 23  5 11 14  5 11 14  5 11 14  5 11\n",
      " 14  5 11 14  5 11 14  5 11 14  5 14 11 11 11 20 11 23 14  5 11 11 14 14  5\n",
      "  5  5 14 11 11 14  5 16 18  6 16  6 18 16  6 18  6 16 18  6 16 18  6 16 18\n",
      "  6 16 18  6 16 18  6 18 16 16  6 18  6 16 18 16  6 18  6 16 18 16  6 18 18\n",
      " 16  6  6 16 18 18 16  6  6 16 18  6 16 18  6 16 18 18  6 16 18  6 16 18  6\n",
      " 16 18  6 16 18 18 16  6  6 16 18 18 16  6  6  6 16 18 18 18 16  6 18 18 16\n",
      "  6  6 16 18  6  6 16 16 18 18  6 16 18  6 16 18  6 16 18  6 16 18  6 16 16\n",
      "  6 18  6 23 18  6 16 18  6 16 18  6  6 16 18  6 16 18 18 18 16  6  6 16 18\n",
      " 18 16  6 18 16  6 18  6 16 18 16  6 18 16  6 18 16  6 18 16  6 16 18 18 16\n",
      "  6 18 18 16 16  6  6  6 16 18 18 16  6 26 26 26 26 26 26 26 26 26 26 26 26\n",
      " 26 26 26 26 26 26 26 26 26  9  9  9 26 26 26 26  9  9  9  9  9  9  9  9  9\n",
      "  9  9  9  9  9  9  9  9  9  9  9  9  9  9  9  9  9  9  9  9  9  9  9  9  9\n",
      "  9  9  9  9  9  9  9  9  9  9  9  9  9  9  9  9  9  9  9  9  9  9  9  9  9\n",
      "  9  9  9  9  9  9  9  9  9  9  9  9  9  9  9  9  9  9  9  9  9 26 26 26 26\n",
      " 26 26 26 26  9  9  9  9  9 26 26 26 26 26 26 26 26 26 26 26 26 26  9 26 26\n",
      " 26 26  9  9  9  9  9  9  9  9  9  9  9  9  9  9  9  9  9  9  9  9  9  9  9\n",
      "  9  9  9  9  9  9  9  9  9  9  9  9  9  9  9  9  9  9  9  9  9  9  9  9  9\n",
      "  9  9  9  9  9  9 26 26 26 26 26 26  9 26 26  9  9  9  9  9  9  9  9 23 23\n",
      " 23  0 23 23 23 23 26 26 26  7  7  7 23 23 23 23 23 23 23  0  0  0 23 23 23\n",
      " 23 23  0  0  0  0  0  0  0  0  0  0  0  0  0 24 24  0  0  0  0  0  0  0  0\n",
      "  0  0  0  0  0  0  0  0  0  0  0  0  0  0  0  0  0  0  0  0  0  0  0  0  0\n",
      "  0  0  0  0  0  0  0  0  0  0  0  0  0  0  0  0  0  0  0  0  0  0  0  0  0\n",
      "  0 23 23 23 23 23 23 23 23  0  0  0  0  0  0  0 23 23 23 23 23 23 23 23 23\n",
      " 23 23 23 23 23 23 23 23 23 23  0  0  0  0  0  0  0  0  0  0  0  0  0  0  0\n",
      "  0  0  0  0  0  0  0  0  0  0  0  0  0  0  0  0  0  0  0  0  0  0  0  0  0\n",
      "  0  0  0  0  0  0  0  0  0  0  0  0  0  0 23 23 23 23 23 23 23  0  0  0  0\n",
      "  0  0  0 20 20 20 20 20 20 20 20 20 20 20  7 20 20 20 20 20 20 20  7  7  7\n",
      "  7 20 20 20  7  7  7  7  7  7  7  7  7  7  7  7  7  7  7  7 14 14  7  7  7\n",
      "  7  7  7  7  7  7  7  7  7  7  7  7  7  7  7  7  7  7  7  7  7  7  7  7  7\n",
      "  7  7  7  7  7  7  7  7  7  7  7  7  7  7  7  7  7  7  7  7  7  7  7  7  7\n",
      "  7  7  7  7  7  7  7 20 20 20 20 20 20 20 20  7  7  7  7  7  7 20 20 20 20\n",
      " 20 20 20 20 20 20 20 20 20 20 20 20 20 20 20 20 20  7  7  7  7  7  7  7  7\n",
      "  7  7  7  7  7  7  7  7  7  7  7  7  7  7  7  7  7  7  7  7  7  7  7  7  7\n",
      "  7  7  7  7  7  7  7  7  7  7  7  7  7  7  7  7  7  7  7  7  7  7  7  7 20\n",
      " 20 20  7 20  7 20 20 20 20 20  7  7  7  7  7  7  7  7]\n"
     ]
    }
   ],
   "source": [
    "print(labels_embedded_kmeans)"
   ]
  },
  {
   "cell_type": "markdown",
   "metadata": {
    "deletable": true,
    "editable": true
   },
   "source": [
    "## Evaluate clustering  using a set of metrics"
   ]
  },
  {
   "cell_type": "code",
   "execution_count": 128,
   "metadata": {
    "collapsed": false,
    "deletable": true,
    "editable": true
   },
   "outputs": [
    {
     "data": {
      "image/png": "[encoded data removed]",
      "text/plain": [
       "<matplotlib.figure.Figure at 0x1c78fedbe48>"
      ]
     },
     "metadata": {},
     "output_type": "display_data"
    }
   ],
   "source": [
    "from clustit import metrics\n",
    "#algorithms = ['complete', 'average', 'centroid', 'dbscan', 'hdbscan', 'spectral', 'affinity', 'kmeans', 'meanshift']\n",
    "#labels = [labels_complete, labels_average, labels_centroid, labels_dbscan, labels_hdbscan, labels_spectral, labels_affinity, labels_embedded_kmeans, labels_embedded_meanshift]\n",
    "algorithms = ['kmeans'] \n",
    "labels=[labels_embedded_kmeans]\n",
    "metric = ['rand_score', 'mutual_info', 'homogeneity', 'completeness']\n",
    "results = {i:[] for i in metric}\n",
    "\n",
    "for k,v in zip(algorithms, labels):\n",
    "    results['rand_score'].append(metrics.adjusted_rand_score(ground_truth_labels, v))\n",
    "    results['mutual_info'].append(metrics.adjusted_mutual_info_score(ground_truth_labels, v))\n",
    "    results['homogeneity'].append(metrics.homogeneity_score(ground_truth_labels, v))\n",
    "    results['completeness'].append(metrics.completeness_score(ground_truth_labels, v))\n",
    "    \n",
    "def plot_results(algorithms, metric, results):\n",
    "    \"\"\"\n",
    "    Function that creates a bar char for a list of algorithms\n",
    "    that have been benchmarked using a list of metrics. \n",
    "    Results is a dictionary with metrics as keys, values are lists\n",
    "    that contain one value per algorithm.\n",
    "    \"\"\"\n",
    "    width = 1.0/(len(algorithms)+2)                             #width that leaves bar of whitespace between groups\n",
    "    x_ind = numpy.arange(len(algorithms)) + 0.5*width           #0.5 width is to make bargroup centered on its tick\n",
    "    bars = []\n",
    "    for i in range(len(metric)):\n",
    "        color = 1.0/len(x_ind)*i                                #map i into [0,1] to get distinct colors\n",
    "        bars.append(pyplot.bar(x_ind+i*width, results[metric[i]], width=width, color=pyplot.cm.gist_rainbow(color)))\n",
    "    ax = pyplot.gcf().gca()\n",
    "    ax.set_xticks(x_ind + (len(x_ind)/float(2)+0.5)*width)      #nicely center the xticks among the bars\n",
    "    ax.set_xticklabels(algorithms)\n",
    "    ax.legend(bars, metric, loc='upper left', bbox_to_anchor=(1, 1))\n",
    "    \n",
    "plot_results(algorithms, metric, results)\n"
   ]
  },
  {
   "cell_type": "markdown",
   "metadata": {
    "collapsed": true,
    "deletable": true,
    "editable": true
   },
   "source": [
    "## Produce output"
   ]
  },
  {
   "cell_type": "code",
   "execution_count": 129,
   "metadata": {
    "collapsed": false
   },
   "outputs": [
    {
     "name": "stdout",
     "output_type": "stream",
     "text": [
      "{'rand_score': [0.7243685035358309], 'completeness': [0.7324181073117001], 'homogeneity': [0.97951886696294099], 'mutual_info': [0.7280278379310916]}\n"
     ]
    }
   ],
   "source": [
    "print(results)"
   ]
  },
  {
   "cell_type": "code",
   "execution_count": 130,
   "metadata": {
    "collapsed": true
   },
   "outputs": [],
   "source": [
    "output_json_file = \"../data/combined/fuji-pce27merged.json\""
   ]
  },
  {
   "cell_type": "code",
   "execution_count": 132,
   "metadata": {
    "collapsed": true,
    "deletable": true,
    "editable": true
   },
   "outputs": [],
   "source": [
    "#add the ground truth as a property to the output for comparison\n",
    "oc.add_property(\"ground truth\", ground_truth_labels)\n",
    "\n",
    "#add the labelings from the clustering algorithms as properties to the output collection\n",
    "for n,l in zip(algorithms, labels):\n",
    "    oc.add_property(n, l)\n",
    "\n",
    "#generate a JSON file that can directly be imported by DiVE\n",
    "json_str = oc.to_DiVE(filename=output_json_file)"
   ]
  },
  {
   "cell_type": "code",
   "execution_count": null,
   "metadata": {
    "collapsed": true
   },
   "outputs": [],
   "source": []
  }
 ],
 "metadata": {
  "anaconda-cloud": {},
  "celltoolbar": "Raw Cell Format",
  "kernelspec": {
   "display_name": "Python [default]",
   "language": "python",
   "name": "python3"
  },
  "language_info": {
   "codemirror_mode": {
    "name": "ipython",
    "version": 3
   },
   "file_extension": ".py",
   "mimetype": "text/x-python",
   "name": "python",
   "nbconvert_exporter": "python",
   "pygments_lexer": "ipython3",
   "version": "3.5.2"
  }
 },
 "nbformat": 4,
 "nbformat_minor": 1
}
